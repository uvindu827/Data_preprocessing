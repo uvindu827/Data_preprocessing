{
  "nbformat": 4,
  "nbformat_minor": 0,
  "metadata": {
    "colab": {
      "provenance": [],
      "authorship_tag": "ABX9TyPl56KLFot5a5s+xkGe4IwI",
      "include_colab_link": true
    },
    "kernelspec": {
      "name": "python3",
      "display_name": "Python 3"
    },
    "language_info": {
      "name": "python"
    }
  },
  "cells": [
    {
      "cell_type": "markdown",
      "metadata": {
        "id": "view-in-github",
        "colab_type": "text"
      },
      "source": [
        "<a href=\"https://colab.research.google.com/github/uvindu827/Data_preprocessing/blob/main/fdm_data_preprocessing.ipynb\" target=\"_parent\"><img src=\"https://colab.research.google.com/assets/colab-badge.svg\" alt=\"Open In Colab\"/></a>"
      ]
    },
    {
      "cell_type": "markdown",
      "source": [
        "#Handling missinng values"
      ],
      "metadata": {
        "id": "ezrFXmnlsGoN"
      }
    },
    {
      "cell_type": "code",
      "execution_count": 4,
      "metadata": {
        "colab": {
          "base_uri": "https://localhost:8080/"
        },
        "collapsed": true,
        "id": "4ybEEv_zryDc",
        "outputId": "c47996c0-0fed-405a-de6a-5cc9524f7f5c"
      },
      "outputs": [
        {
          "output_type": "stream",
          "name": "stdout",
          "text": [
            "\n",
            "Original dataframe\n"
          ]
        }
      ],
      "source": [
        "import pandas as pd\n",
        "import numpy as np\n",
        "\n",
        "data = {\n",
        "    'Age': [25, 30, np.nan, 35, 40, 45, np.nan, 50],\n",
        "    'Salary': [50000, 54000, 52000, np.nan, 62000, np.nan, 58000, 60000],\n",
        "    'Department': ['IT', 'Finance', np.nan, 'Finance', 'IT', 'HR', 'HR', 'IT'],\n",
        "    'Experience': [2, 4, np.nan, 6, 8, 10, 12, np.nan]\n",
        "}\n",
        "\n",
        "df = pd.DataFrame(data)\n",
        "print(\"\\nOriginal dataframe\")\n",
        "print(df)"
      ]
    },
    {
      "cell_type": "markdown",
      "source": [
        "**Stratergy 1**\n",
        "\n",
        "*remove rows with missing values*"
      ],
      "metadata": {
        "id": "aO6GPMUhsz2s"
      }
    },
    {
      "cell_type": "code",
      "source": [
        "df_dropna = df.dropna()\n",
        "print(\"\\nAfter removing rows with null values\")\n",
        "print(df_dropna)"
      ],
      "metadata": {
        "colab": {
          "base_uri": "https://localhost:8080/"
        },
        "id": "BskjC267tAlz",
        "outputId": "71c2776a-da14-42f8-d77c-07ceb443d4d2"
      },
      "execution_count": 3,
      "outputs": [
        {
          "output_type": "stream",
          "name": "stdout",
          "text": [
            "\n",
            "After removing rows with null values\n",
            "    Age   Salary Department  Experience\n",
            "0  25.0  50000.0         IT         2.0\n",
            "1  30.0  54000.0    Finance         4.0\n",
            "4  40.0  62000.0         IT         8.0\n"
          ]
        }
      ]
    },
    {
      "cell_type": "markdown",
      "source": [
        "**stratergy 2**\n",
        "\n",
        "*Fill with global constant*"
      ],
      "metadata": {
        "id": "sqPnbVtVtnRt"
      }
    },
    {
      "cell_type": "code",
      "source": [
        "df_fill_constant = df.fillna(\"Unknown\")\n",
        "print(\"\\nAfter fillinng missing value with global constants\")\n",
        "print(df_fill_constant)"
      ],
      "metadata": {
        "colab": {
          "base_uri": "https://localhost:8080/"
        },
        "collapsed": true,
        "id": "pIq1ogPotyTu",
        "outputId": "643bfcc4-151f-4885-8a98-2803b887e66f"
      },
      "execution_count": 5,
      "outputs": [
        {
          "output_type": "stream",
          "name": "stdout",
          "text": [
            "\n",
            "After fillinng missing value with global constants\n",
            "       Age   Salary Department Experience\n",
            "0     25.0  50000.0         IT        2.0\n",
            "1     30.0  54000.0    Finance        4.0\n",
            "2  Unknown  52000.0    Unknown    Unknown\n",
            "3     35.0  Unknown    Finance        6.0\n",
            "4     40.0  62000.0         IT        8.0\n",
            "5     45.0  Unknown         HR       10.0\n",
            "6  Unknown  58000.0         HR       12.0\n",
            "7     50.0  60000.0         IT    Unknown\n"
          ]
        }
      ]
    },
    {
      "cell_type": "markdown",
      "source": [
        "**stratergy 3**\n",
        "\n",
        "*Numerical values - Fill with mean*"
      ],
      "metadata": {
        "id": "RjQdRe4PuNxb"
      }
    },
    {
      "cell_type": "code",
      "source": [
        "from sklearn.impute import SimpleImputer\n",
        "\n",
        "mean_imputer = SimpleImputer(strategy='mean')\n",
        "median_imputer = SimpleImputer(strategy='median')\n",
        "mode_imputer = SimpleImputer(strategy='most_frequent')\n",
        "\n",
        "df_numeric = df.select_dtypes(include=[np.number])\n",
        "df_numeric_mean = pd.DataFrame(mean_imputer.fit_transform(df_numeric))\n",
        "\n",
        "df_cat = df.select_dtypes(exclude=[np.number])\n",
        "df_cat_mode = pd.DataFrame(mode_imputer.fit_transform(df_cat))\n",
        "\n",
        "df_fill_avg = pd.concat([df_numeric_mean, df_cat_mode], axis=1)\n",
        "print(\"\\nAfter filling with mean (numeric) and mode (categorical):\")\n",
        "print(df_fill_avg)\n",
        "\n"
      ],
      "metadata": {
        "colab": {
          "base_uri": "https://localhost:8080/"
        },
        "id": "Lfp6VH3Ouu3M",
        "outputId": "d1a39a9c-b3c9-4f4e-f787-8cd1ae8fabbf"
      },
      "execution_count": 9,
      "outputs": [
        {
          "output_type": "stream",
          "name": "stdout",
          "text": [
            "\n",
            "After filling with mean (numeric) and mode (categorical):\n",
            "      0        1     2        0\n",
            "0  25.0  50000.0   2.0       IT\n",
            "1  30.0  54000.0   4.0  Finance\n",
            "2  37.5  52000.0   7.0       IT\n",
            "3  35.0  56000.0   6.0  Finance\n",
            "4  40.0  62000.0   8.0       IT\n",
            "5  45.0  56000.0  10.0       HR\n",
            "6  37.5  58000.0  12.0       HR\n",
            "7  50.0  60000.0   7.0       IT\n"
          ]
        }
      ]
    },
    {
      "cell_type": "code",
      "source": [
        "df_numeric = df.select_dtypes(include=[np.number])\n",
        "df_numeric_median = pd.DataFrame(median_imputer.fit_transform(df_numeric))\n",
        "\n",
        "df_cat = df.select_dtypes(exclude=[np.number])\n",
        "df_cat_mode = pd.DataFrame(mode_imputer.fit_transform(df_cat))\n",
        "\n",
        "df_fill_avg_1 = pd.concat([df_numeric_median, df_cat_mode], axis=1)\n",
        "print(\"\\nAfter filling with mean (numeric) and mode (categorical):\")\n",
        "print(df_fill_avg_1)"
      ],
      "metadata": {
        "colab": {
          "base_uri": "https://localhost:8080/"
        },
        "id": "P5EAiNSoywG5",
        "outputId": "cf92939e-b2e5-4daf-a9bb-a36577e2aecc"
      },
      "execution_count": 11,
      "outputs": [
        {
          "output_type": "stream",
          "name": "stdout",
          "text": [
            "\n",
            "After filling with mean (numeric) and mode (categorical):\n",
            "      0        1     2        0\n",
            "0  25.0  50000.0   2.0       IT\n",
            "1  30.0  54000.0   4.0  Finance\n",
            "2  37.5  52000.0   7.0       IT\n",
            "3  35.0  56000.0   6.0  Finance\n",
            "4  40.0  62000.0   8.0       IT\n",
            "5  45.0  56000.0  10.0       HR\n",
            "6  37.5  58000.0  12.0       HR\n",
            "7  50.0  60000.0   7.0       IT\n"
          ]
        }
      ]
    },
    {
      "cell_type": "markdown",
      "source": [
        "#Data Bining"
      ],
      "metadata": {
        "id": "R-LgyQfYzsxh"
      }
    },
    {
      "cell_type": "code",
      "source": [
        "np.random.seed(42)\n",
        "data = np.random.randint(18,70, size=100)\n"
      ],
      "metadata": {
        "colab": {
          "base_uri": "https://localhost:8080/"
        },
        "id": "4e7HlPCIzvfK",
        "outputId": "c7dc18c7-df18-4139-d55f-90d765913eda"
      },
      "execution_count": 12,
      "outputs": [
        {
          "output_type": "execute_result",
          "data": {
            "text/plain": [
              "array([56, 69, 46, 32, 60, 25, 38, 56, 36, 40, 28, 28, 41, 53, 57, 41, 20,\n",
              "       39, 19, 41, 61, 47, 55, 19, 38, 50, 29, 39, 61, 42, 66, 44, 59, 45,\n",
              "       33, 32, 64, 68, 61, 69, 20, 54, 68, 24, 38, 26, 56, 35, 21, 42, 31,\n",
              "       67, 26, 43, 19, 37, 45, 64, 24, 61, 25, 64, 52, 31, 34, 53, 67, 57,\n",
              "       21, 19, 23, 59, 21, 46, 35, 43, 61, 51, 27, 53, 31, 48, 65, 32, 25,\n",
              "       31, 40, 57, 38, 33, 62, 35, 64, 41, 43, 42, 62, 58, 46, 32])"
            ]
          },
          "metadata": {},
          "execution_count": 12
        }
      ]
    },
    {
      "cell_type": "markdown",
      "source": [
        "**Equal width biinning**"
      ],
      "metadata": {
        "id": "bgErIOrA0n1-"
      }
    },
    {
      "cell_type": "code",
      "source": [
        "num_bins = 5\n",
        "min = data.min()\n",
        "max = data.max()\n",
        "bin_width = (max-min)/num_bins\n",
        "\n",
        "bins = [min + i * bin_width for i in range(num_bins + 1)]\n",
        "labels = [f'Bin {i+1}' for i in range(num_bins)]\n",
        "\n",
        "df_binned = pd.cut(data, bins=bins, labels=labels, include_lowest=True)\n",
        "print(\"\\nEqual-width binning results:\")\n",
        "print(pd.value_counts(df_binned))"
      ],
      "metadata": {
        "colab": {
          "base_uri": "https://localhost:8080/"
        },
        "id": "LGxu0m2Q0tlp",
        "outputId": "2e580ace-1f60-456e-da80-c832344504fb"
      },
      "execution_count": 14,
      "outputs": [
        {
          "output_type": "stream",
          "name": "stdout",
          "text": [
            "\n",
            "Equal-width binning results:\n",
            "Bin 2    22\n",
            "Bin 1    21\n",
            "Bin 3    20\n",
            "Bin 5    20\n",
            "Bin 4    17\n",
            "Name: count, dtype: int64\n"
          ]
        },
        {
          "output_type": "stream",
          "name": "stderr",
          "text": [
            "/tmp/ipython-input-1887948049.py:11: FutureWarning: pandas.value_counts is deprecated and will be removed in a future version. Use pd.Series(obj).value_counts() instead.\n",
            "  print(pd.value_counts(df_binned))\n"
          ]
        }
      ]
    },
    {
      "cell_type": "markdown",
      "source": [
        "**Equal depth binning**"
      ],
      "metadata": {
        "id": "5Q-kgFZN1gtS"
      }
    },
    {
      "cell_type": "code",
      "source": [
        "df_binned_eq_freq = pd.qcut(data, q=num_bins, labels=labels)\n",
        "print(\"\\nEqual-frequency binning results:\")\n",
        "print(pd.value_counts(df_binned_eq_freq))"
      ],
      "metadata": {
        "colab": {
          "base_uri": "https://localhost:8080/"
        },
        "id": "7wcOlpBS1lWH",
        "outputId": "a711ada5-f138-4f1e-b569-d400f7e2770e"
      },
      "execution_count": 15,
      "outputs": [
        {
          "output_type": "stream",
          "name": "stdout",
          "text": [
            "\n",
            "Equal-frequency binning results:\n",
            "Bin 2    21\n",
            "Bin 1    20\n",
            "Bin 3    20\n",
            "Bin 5    20\n",
            "Bin 4    19\n",
            "Name: count, dtype: int64\n"
          ]
        },
        {
          "output_type": "stream",
          "name": "stderr",
          "text": [
            "/tmp/ipython-input-2764220770.py:3: FutureWarning: pandas.value_counts is deprecated and will be removed in a future version. Use pd.Series(obj).value_counts() instead.\n",
            "  print(pd.value_counts(df_binned_eq_freq))\n"
          ]
        }
      ]
    },
    {
      "cell_type": "markdown",
      "source": [
        "**Bin smoothing by mean**"
      ],
      "metadata": {
        "id": "bCq4mHEg16Rr"
      }
    },
    {
      "cell_type": "code",
      "source": [
        "df_smoothed = df_binned.copy()\n",
        "bin_means = {}\n",
        "\n",
        "for label in labels:\n",
        "    indices = np.where(df_binned == label)[0]\n",
        "    bin_values = data[indices]\n",
        "    bin_mean = np.mean(bin_values)\n",
        "    bin_means[label] = bin_mean\n",
        "    data[indices] = bin_mean\n",
        "\n",
        "print(\"\\nData after bin smoothing by mean:\")\n",
        "print(data)"
      ],
      "metadata": {
        "colab": {
          "base_uri": "https://localhost:8080/"
        },
        "id": "IXakZ5ba1_pd",
        "outputId": "8a947cb7-88bc-4abe-d2b9-855e8037acf7"
      },
      "execution_count": 17,
      "outputs": [
        {
          "output_type": "stream",
          "name": "stdout",
          "text": [
            "\n",
            "Data after bin smoothing by mean:\n",
            "[55 64 43 34 64 23 34 55 34 43 23 23 43 55 55 43 23 34 23 43 64 43 55 23\n",
            " 34 55 23 34 64 43 64 43 55 43 34 34 64 64 64 64 23 55 64 23 34 23 55 34\n",
            " 23 43 34 64 23 43 23 34 43 64 23 64 23 64 55 34 34 55 64 55 23 23 23 55\n",
            " 23 43 34 43 64 55 23 55 34 43 64 34 23 34 43 55 34 34 64 34 64 43 43 43\n",
            " 64 55 43 34]\n"
          ]
        }
      ]
    }
  ]
}